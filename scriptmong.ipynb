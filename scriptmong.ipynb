{
 "cells": [
  {
   "metadata": {},
   "cell_type": "markdown",
   "source": "",
   "id": "473065af54811e58"
  },
  {
   "metadata": {},
   "cell_type": "markdown",
   "source": [
    " # **TP : Manipulation de Données Clients avec MongoDB et les Structures de Données Python**\n",
    "\n"
   ],
   "id": "ccb6b765b05cb90e"
  },
  {
   "metadata": {},
   "cell_type": "markdown",
   "source": [
    "### Objectifs pédagogiques :\n",
    "#### 1.\tComprendre et utiliser les structures de données Python (listes, dictionnaires, tuples).\n",
    "#### 2.\tInteragir avec une base MongoDB pour stocker et récupérer des données.\n",
    "#### 3.\tRéaliser des analyses simples avec des structures Python sans bibliothèques avancées.\n",
    "#### 4.\tImplémenter des algorithmes d'extraction et de transformation des données.\n",
    "### Scénario :\n",
    "Un magasin collecte des avis clients sur ses produits. Ces avis sont stockés dans MongoDB. Votre mission est d'extraire ces avis, de les transformer en structures Python (listes, dictionnaires, tuples) et de réaliser des analyses simples comme la recherche du meilleur produit ou le client ayant laissé le plus d'avis.\n",
    "### Tâches principales :\n",
    "#### 1. Création et insertion de données dans MongoDB :\n",
    "- Les données des avis clients sont initialement fournies dans une liste de dictionnaires Python :\n",
    "\n",
    "\n",
    "\n",
    "\n"
   ],
   "id": "47a091c042fa94c3"
  },
  {
   "metadata": {},
   "cell_type": "code",
   "source": [
    "from xml.sax.expatreader import version\n",
    "\n",
    "avis_clients=[\n",
    "  {\"client_id\": \"C001\", \"product_id\": \"P001\", \"rating\": 5, \"connect\": \"Excellent\", \"date\" :\"2024 -01-01\"},\n",
    "  {\"client_id\": \"C002\", \"product_id\": \"P002\", \"rating\": 3, \"connect\": \"Average product\", \"date\" :\"2024 -01-02\"},\n",
    "   {\"client_id\": \"C00a1\", \"product_id\": \"P003\", \"rating\": 4, \"connect\": \"Very good!\", \"date\" :\"2024 -01-03\"}\n",
    "]"
   ],
   "id": "65cbe07de0ebe1fa",
   "outputs": [],
   "execution_count": null
  },
  {
   "metadata": {},
   "cell_type": "markdown",
   "source": [
    "- Insérer ces données dans MongoDB en utilisant Python (pymongo).\n",
    "#### 2. Extraction des données :\n",
    "- Récupérer les données depuis MongoDB et les convertir en une liste de tuples :\n",
    "\n"
   ],
   "id": "813880d17db8e71b"
  },
  {
   "metadata": {},
   "cell_type": "code",
   "source": [
    "# Exemple de structure\n",
    "[(\"C001\", \"P001\", 5, \"Excellent!\", \"2024 -01-01\"),\n",
    "(\"C002\", \"P002\", 3, \"Average product\", \"2024 -01-02\")\n",
    " ]"
   ],
   "id": "e7dc2d99c1a10a72",
   "outputs": [],
   "execution_count": null
  },
  {
   "metadata": {},
   "cell_type": "markdown",
   "source": [
    "#### 3. Manipulation et analyse des données :\n",
    "- \tRéaliser des analyses simples à partir des listes et dictionnaires :\n",
    "#### 1.\tTrouver le produit avec la meilleure note moyenne.\n",
    "#### 2.\tTrouver le client ayant laissé le plus d'avis.\n",
    "#### 3.\tCompter le nombre total d'avis par produit.\n",
    "#### 4. Visualisation des résultats :\n",
    "-\tAfficher les résultats dans un format lisible directement dans la console :\n",
    "-\tExemple : Le produit P001 a la meilleure note moyenne : 4.8.\n",
    "-\tExemple : Le client C001 a laissé le plus d'avis : 3.\n"
   ],
   "id": "ff4573271c5059df"
  },
  {
   "metadata": {},
   "cell_type": "markdown",
   "source": "# Réponses",
   "id": "1056360c64fdeb9e"
  },
  {
   "metadata": {},
   "cell_type": "markdown",
   "source": "#### 1. Création et insertion de données dans MongoDB ",
   "id": "438668967cfc3f3d"
  },
  {
   "cell_type": "code",
   "id": "initial_id",
   "metadata": {
    "collapsed": true,
    "ExecuteTime": {
     "end_time": "2025-01-27T22:44:37.313443Z",
     "start_time": "2025-01-27T22:44:37.308336Z"
    }
   },
   "source": "import pymongo",
   "outputs": [],
   "execution_count": 270
  },
  {
   "metadata": {
    "ExecuteTime": {
     "end_time": "2025-01-27T22:44:38.923811Z",
     "start_time": "2025-01-27T22:44:38.915476Z"
    }
   },
   "cell_type": "code",
   "source": [
    "myclient = pymongo.MongoClient(\"mongodb://localhost:27017/\")\n",
    "\n",
    "mydb = myclient[\"BD_avis_clients\"]"
   ],
   "id": "877182f6d2444c3c",
   "outputs": [],
   "execution_count": 271
  },
  {
   "metadata": {
    "ExecuteTime": {
     "end_time": "2025-01-27T22:44:39.935671Z",
     "start_time": "2025-01-27T22:44:39.931904Z"
    }
   },
   "cell_type": "code",
   "source": "print(myclient.list_database_names())",
   "id": "96de2333b93ba7e9",
   "outputs": [
    {
     "name": "stdout",
     "output_type": "stream",
     "text": [
      "['BD_avis_clients', 'admin', 'config', 'local', 'mydb', 'vde']\n"
     ]
    }
   ],
   "execution_count": 272
  },
  {
   "metadata": {
    "ExecuteTime": {
     "end_time": "2025-01-27T22:44:42.600320Z",
     "start_time": "2025-01-27T22:44:42.596484Z"
    }
   },
   "cell_type": "code",
   "source": [
    "dblist = myclient.list_database_names()\n",
    "if \"BD_avis_clients\" in dblist:\n",
    "  print(\"The maBD exists.\")"
   ],
   "id": "c7ee6a15661b15ce",
   "outputs": [
    {
     "name": "stdout",
     "output_type": "stream",
     "text": [
      "The maBD exists.\n"
     ]
    }
   ],
   "execution_count": 273
  },
  {
   "metadata": {},
   "cell_type": "code",
   "source": [
    "\"\"\"\n",
    "mydb.avis_clients.insertMany([\n",
    "  {'client_id': 'C001', 'product_id': 'P001', 'rating': 5, 'connect': 'Excellent', 'date': '2024-01-01'},\n",
    "  {'client_id': 'C002', 'product_id': 'P002', 'rating': 3, 'connect': 'Average product', 'date': '2024-01-02'},\n",
    "  {'client_id': 'C003', 'product_id': 'P003', 'rating': 4, 'connect': 'Very good!', 'date': '2024-01-03'}\n",
    "])\n",
    "\"\"\"\n"
   ],
   "id": "537865de88ee1b3a",
   "outputs": [],
   "execution_count": null
  },
  {
   "metadata": {
    "ExecuteTime": {
     "end_time": "2025-01-28T08:05:24.068097Z",
     "start_time": "2025-01-28T08:05:24.060477Z"
    }
   },
   "cell_type": "code",
   "source": [
    "\n",
    "# •\tInsérer les données dans MongoDB \n",
    "mycol = mydb[\"avis_clients\"]\n",
    "x = mycol.insert_many(avis_clients)\n",
    "\n",
    "# Afficher les _id des documents inserés:\n",
    "print(x.inserted_ids)"
   ],
   "id": "88a58ebaa2aa6bbe",
   "outputs": [],
   "execution_count": null
  },
  {
   "metadata": {},
   "cell_type": "markdown",
   "source": "#### 2. Extraction des données ",
   "id": "8d6aafd541c9f2a0"
  },
  {
   "metadata": {
    "ExecuteTime": {
     "end_time": "2025-01-27T22:51:50.719188Z",
     "start_time": "2025-01-27T22:51:50.715342Z"
    }
   },
   "cell_type": "code",
   "source": [
    "y = mycol.find_one()\n",
    "print(x)"
   ],
   "id": "43d92a339fd4c788",
   "outputs": [
    {
     "name": "stdout",
     "output_type": "stream",
     "text": [
      "{'client_id': 'C00a1', 'product_id': 'P003', 'rating': 4, 'connect': 'Very good!', 'date': '2024 -01-03'}\n"
     ]
    }
   ],
   "execution_count": 285
  },
  {
   "metadata": {
    "ExecuteTime": {
     "end_time": "2025-01-27T22:45:22.573667Z",
     "start_time": "2025-01-27T22:45:22.569359Z"
    }
   },
   "cell_type": "code",
   "source": [
    "#Retrouvez le premier document de la collection clients \n",
    "y = mycol.find_one()\n",
    "print(x)"
   ],
   "id": "be6fce85a4d13e19",
   "outputs": [
    {
     "name": "stdout",
     "output_type": "stream",
     "text": [
      "{'_id': ObjectId('6795033e49942db206d4bcaf'), 'client_id': 'C002', 'product_id': 'P002', 'rating': 3, 'connect': 'Average product', 'date': '2024 -01-02'}\n"
     ]
    }
   ],
   "execution_count": 276
  },
  {
   "metadata": {
    "ExecuteTime": {
     "end_time": "2025-01-27T22:45:26.904390Z",
     "start_time": "2025-01-27T22:45:26.899394Z"
    }
   },
   "cell_type": "code",
   "source": [
    "# Renvoyer tous les documents de la collection \"avis_clients\" et imprimer chaque document :\n",
    "for x in mycol.find():\n",
    "  print(x)"
   ],
   "id": "563bf8dc2984c538",
   "outputs": [
    {
     "name": "stdout",
     "output_type": "stream",
     "text": [
      "{'_id': ObjectId('6794f45f49942db206d4bca6'), 'client_id': 'C001', 'product_id': 'P001', 'rating': 5, 'connect': 'Excellent', 'date': '2024 -01-01'}\n",
      "{'_id': ObjectId('6794f45f49942db206d4bca7'), 'client_id': 'C002', 'product_id': 'P002', 'rating': 3, 'connect': 'Average product', 'date': '2024 -01-02'}\n",
      "{'_id': ObjectId('6794f45f49942db206d4bca8'), 'client_id': 'C00a1', 'product_id': 'P003', 'rating': 4, 'connect': 'Very good!', 'date': '2024 -01-03'}\n",
      "{'_id': ObjectId('679501ac49942db206d4bcaa'), 'client_id': 'C001', 'product_id': 'P001', 'rating': 5, 'connect': 'Excellent', 'date': '2024 -01-01'}\n",
      "{'_id': ObjectId('679501ac49942db206d4bcab'), 'client_id': 'C002', 'product_id': 'P002', 'rating': 3, 'connect': 'Average product', 'date': '2024 -01-02'}\n",
      "{'_id': ObjectId('679501ac49942db206d4bcac'), 'client_id': 'C00a1', 'product_id': 'P003', 'rating': 4, 'connect': 'Very good!', 'date': '2024 -01-03'}\n",
      "{'_id': ObjectId('6795033e49942db206d4bcae'), 'client_id': 'C001', 'product_id': 'P001', 'rating': 5, 'connect': 'Excellent', 'date': '2024 -01-01'}\n",
      "{'_id': ObjectId('6795033e49942db206d4bcaf'), 'client_id': 'C002', 'product_id': 'P002', 'rating': 3, 'connect': 'Average product', 'date': '2024 -01-02'}\n",
      "{'_id': ObjectId('6795033e49942db206d4bcb0'), 'client_id': 'C00a1', 'product_id': 'P003', 'rating': 4, 'connect': 'Very good!', 'date': '2024 -01-03'}\n",
      "{'_id': ObjectId('6797a5e4f687116a960c5dd3'), 'client_id': 'C001', 'product_id': 'P001', 'rating': 5, 'connect': 'Excellent', 'date': '2024-01-01'}\n",
      "{'_id': ObjectId('6797a5e4f687116a960c5dd4'), 'client_id': 'C002', 'product_id': 'P002', 'rating': 3, 'connect': 'Average product', 'date': '2024-01-02'}\n",
      "{'_id': ObjectId('6797a5e4f687116a960c5dd5'), 'client_id': 'C003', 'product_id': 'P003', 'rating': 4, 'connect': 'Very good!', 'date': '2024-01-03'}\n",
      "{'_id': ObjectId('6797a75a49942db206d4bcb2'), 'client_id': 'C001', 'product_id': 'P001', 'rating': 5, 'connect': 'Excellent', 'date': '2024 -01-01'}\n",
      "{'_id': ObjectId('6797a75a49942db206d4bcb3'), 'client_id': 'C002', 'product_id': 'P002', 'rating': 3, 'connect': 'Average product', 'date': '2024 -01-02'}\n",
      "{'_id': ObjectId('6797a75a49942db206d4bcb4'), 'client_id': 'C00a1', 'product_id': 'P003', 'rating': 4, 'connect': 'Very good!', 'date': '2024 -01-03'}\n"
     ]
    }
   ],
   "execution_count": 277
  },
  {
   "metadata": {
    "ExecuteTime": {
     "end_time": "2025-01-27T22:45:32.466113Z",
     "start_time": "2025-01-27T22:45:32.461154Z"
    }
   },
   "cell_type": "code",
   "source": [
    "# Renvoyer uniquement les rating et le connect, pas les _ids :\n",
    "for x in mycol.find({},{ \"_id\": False, \"rating\": True, \"connect\": True }):\n",
    "  print(x)"
   ],
   "id": "f9cffdc5573cee3",
   "outputs": [
    {
     "name": "stdout",
     "output_type": "stream",
     "text": [
      "{'rating': 5, 'connect': 'Excellent'}\n",
      "{'rating': 3, 'connect': 'Average product'}\n",
      "{'rating': 4, 'connect': 'Very good!'}\n",
      "{'rating': 5, 'connect': 'Excellent'}\n",
      "{'rating': 3, 'connect': 'Average product'}\n",
      "{'rating': 4, 'connect': 'Very good!'}\n",
      "{'rating': 5, 'connect': 'Excellent'}\n",
      "{'rating': 3, 'connect': 'Average product'}\n",
      "{'rating': 4, 'connect': 'Very good!'}\n",
      "{'rating': 5, 'connect': 'Excellent'}\n",
      "{'rating': 3, 'connect': 'Average product'}\n",
      "{'rating': 4, 'connect': 'Very good!'}\n",
      "{'rating': 5, 'connect': 'Excellent'}\n",
      "{'rating': 3, 'connect': 'Average product'}\n",
      "{'rating': 4, 'connect': 'Very good!'}\n"
     ]
    }
   ],
   "execution_count": 278
  },
  {
   "metadata": {
    "ExecuteTime": {
     "end_time": "2025-01-27T22:45:44.721852Z",
     "start_time": "2025-01-27T22:45:44.717359Z"
    }
   },
   "cell_type": "code",
   "source": [
    " liste_dict=[]\n",
    "for x in mycol.find({},{ \"_id\": False}):\n",
    "     liste_dict.append(x)"
   ],
   "id": "e7d8dbb1cecc0740",
   "outputs": [],
   "execution_count": 279
  },
  {
   "metadata": {
    "ExecuteTime": {
     "end_time": "2025-01-27T22:45:50.051085Z",
     "start_time": "2025-01-27T22:45:50.045508Z"
    }
   },
   "cell_type": "code",
   "source": "liste_dict",
   "id": "8842fdf35733e38a",
   "outputs": [
    {
     "data": {
      "text/plain": [
       "[{'client_id': 'C001',\n",
       "  'product_id': 'P001',\n",
       "  'rating': 5,\n",
       "  'connect': 'Excellent',\n",
       "  'date': '2024 -01-01'},\n",
       " {'client_id': 'C002',\n",
       "  'product_id': 'P002',\n",
       "  'rating': 3,\n",
       "  'connect': 'Average product',\n",
       "  'date': '2024 -01-02'},\n",
       " {'client_id': 'C00a1',\n",
       "  'product_id': 'P003',\n",
       "  'rating': 4,\n",
       "  'connect': 'Very good!',\n",
       "  'date': '2024 -01-03'},\n",
       " {'client_id': 'C001',\n",
       "  'product_id': 'P001',\n",
       "  'rating': 5,\n",
       "  'connect': 'Excellent',\n",
       "  'date': '2024 -01-01'},\n",
       " {'client_id': 'C002',\n",
       "  'product_id': 'P002',\n",
       "  'rating': 3,\n",
       "  'connect': 'Average product',\n",
       "  'date': '2024 -01-02'},\n",
       " {'client_id': 'C00a1',\n",
       "  'product_id': 'P003',\n",
       "  'rating': 4,\n",
       "  'connect': 'Very good!',\n",
       "  'date': '2024 -01-03'},\n",
       " {'client_id': 'C001',\n",
       "  'product_id': 'P001',\n",
       "  'rating': 5,\n",
       "  'connect': 'Excellent',\n",
       "  'date': '2024 -01-01'},\n",
       " {'client_id': 'C002',\n",
       "  'product_id': 'P002',\n",
       "  'rating': 3,\n",
       "  'connect': 'Average product',\n",
       "  'date': '2024 -01-02'},\n",
       " {'client_id': 'C00a1',\n",
       "  'product_id': 'P003',\n",
       "  'rating': 4,\n",
       "  'connect': 'Very good!',\n",
       "  'date': '2024 -01-03'},\n",
       " {'client_id': 'C001',\n",
       "  'product_id': 'P001',\n",
       "  'rating': 5,\n",
       "  'connect': 'Excellent',\n",
       "  'date': '2024-01-01'},\n",
       " {'client_id': 'C002',\n",
       "  'product_id': 'P002',\n",
       "  'rating': 3,\n",
       "  'connect': 'Average product',\n",
       "  'date': '2024-01-02'},\n",
       " {'client_id': 'C003',\n",
       "  'product_id': 'P003',\n",
       "  'rating': 4,\n",
       "  'connect': 'Very good!',\n",
       "  'date': '2024-01-03'},\n",
       " {'client_id': 'C001',\n",
       "  'product_id': 'P001',\n",
       "  'rating': 5,\n",
       "  'connect': 'Excellent',\n",
       "  'date': '2024 -01-01'},\n",
       " {'client_id': 'C002',\n",
       "  'product_id': 'P002',\n",
       "  'rating': 3,\n",
       "  'connect': 'Average product',\n",
       "  'date': '2024 -01-02'},\n",
       " {'client_id': 'C00a1',\n",
       "  'product_id': 'P003',\n",
       "  'rating': 4,\n",
       "  'connect': 'Very good!',\n",
       "  'date': '2024 -01-03'}]"
      ]
     },
     "execution_count": 280,
     "metadata": {},
     "output_type": "execute_result"
    }
   ],
   "execution_count": 280
  },
  {
   "metadata": {
    "ExecuteTime": {
     "end_time": "2025-01-27T22:45:56.218413Z",
     "start_time": "2025-01-27T22:45:56.215384Z"
    }
   },
   "cell_type": "code",
   "source": [
    "# Initialisation d'une liste pour stocker les tuples\n",
    "liste_tuple = []\n",
    "\n",
    "# Boucle pour transformer chaque dictionnaire en tuple et l'ajouter à liste_tuple\n",
    "for x in liste_dict:\n",
    "    liste_tuple.append(tuple(x.values()))\n",
    "\n",
    "# Affichage de la liste des tuples\n",
    "print(liste_tuple)"
   ],
   "id": "8e943024144d5fbc",
   "outputs": [
    {
     "name": "stdout",
     "output_type": "stream",
     "text": [
      "[('C001', 'P001', 5, 'Excellent', '2024 -01-01'), ('C002', 'P002', 3, 'Average product', '2024 -01-02'), ('C00a1', 'P003', 4, 'Very good!', '2024 -01-03'), ('C001', 'P001', 5, 'Excellent', '2024 -01-01'), ('C002', 'P002', 3, 'Average product', '2024 -01-02'), ('C00a1', 'P003', 4, 'Very good!', '2024 -01-03'), ('C001', 'P001', 5, 'Excellent', '2024 -01-01'), ('C002', 'P002', 3, 'Average product', '2024 -01-02'), ('C00a1', 'P003', 4, 'Very good!', '2024 -01-03'), ('C001', 'P001', 5, 'Excellent', '2024-01-01'), ('C002', 'P002', 3, 'Average product', '2024-01-02'), ('C003', 'P003', 4, 'Very good!', '2024-01-03'), ('C001', 'P001', 5, 'Excellent', '2024 -01-01'), ('C002', 'P002', 3, 'Average product', '2024 -01-02'), ('C00a1', 'P003', 4, 'Very good!', '2024 -01-03')]\n"
     ]
    }
   ],
   "execution_count": 281
  },
  {
   "metadata": {},
   "cell_type": "markdown",
   "source": [
    "####  3.\tTrouver le client ayant laissé le plus d'avis.\n",
    "\n"
   ],
   "id": "fe3e30282d79c45"
  },
  {
   "metadata": {
    "ExecuteTime": {
     "end_time": "2025-01-27T22:46:02.133688Z",
     "start_time": "2025-01-27T22:46:02.129078Z"
    }
   },
   "cell_type": "code",
   "source": [
    "from bson.son import SON\n",
    "# Agrégation pour calculer la moyenne des notes par produit\n",
    "pipeline = [\n",
    "    {\n",
    "        \"$group\": {\n",
    "            \"_id\": \"$client_id\",  # Remplacez \"produit\" par le champ de votre collection\n",
    "            \"averageRating\": {\"$avg\": \"$rating\"}\n",
    "        }\n",
    "    },\n",
    "    {\n",
    "        \"$sort\": SON([(\"averageRating\", -1)])\n",
    "    },\n",
    "    {\n",
    "        \"$limit\": 1\n",
    "    }\n",
    "]\n",
    "result = mycol.aggregate(pipeline)\n",
    "# Affiche le produit avec la meilleure note moyenne\n",
    "for client in result:\n",
    "    print(f'Le client {client['_id']} a laissé le plus d\\' avis : {client['averageRating']}')"
   ],
   "id": "c68257c7f47644cd",
   "outputs": [
    {
     "name": "stdout",
     "output_type": "stream",
     "text": [
      "Le client C001 a laissé le plus d' avis : 5.0\n"
     ]
    }
   ],
   "execution_count": 282
  },
  {
   "metadata": {},
   "cell_type": "markdown",
   "source": "####  4.\tCompter le nombre total d'avis par produit.",
   "id": "7b969e1638b29866"
  },
  {
   "metadata": {
    "ExecuteTime": {
     "end_time": "2025-01-27T22:46:07.493453Z",
     "start_time": "2025-01-27T22:46:07.487795Z"
    }
   },
   "cell_type": "code",
   "source": [
    "from bson.son import SON\n",
    "# Agrégation pour calculer la moyenne des notes par produit\n",
    "pipeline = [\n",
    "    {\n",
    "        \"$group\": {\n",
    "            \"_id\": \"$product_id\", \n",
    "            \"sumRating\": {\"$sum\": \"$rating\"}\n",
    "        }\n",
    "    },\n",
    "    {\n",
    "        \"$sort\": SON([(\"sumRating\", -1)])\n",
    "    },\n",
    "    {\n",
    "        \"$limit\": 1\n",
    "    }\n",
    "]\n",
    "result = mycol.aggregate(pipeline)\n",
    "# Affiche le produit avec la meilleure note moyenne\n",
    "for product in result:\n",
    "    print(f'Le produit {product['_id']} a la meilleure note moyenne: {product['sumRating']}')"
   ],
   "id": "d96667b82c251f73",
   "outputs": [
    {
     "name": "stdout",
     "output_type": "stream",
     "text": [
      "Le produit P001 a la meilleure note moyenne: 25\n"
     ]
    }
   ],
   "execution_count": 283
  },
  {
   "metadata": {},
   "cell_type": "code",
   "outputs": [],
   "execution_count": null,
   "source": "",
   "id": "b53f1b13cae38eaa"
  }
 ],
 "metadata": {
  "kernelspec": {
   "display_name": "Python 3",
   "language": "python",
   "name": "python3"
  },
  "language_info": {
   "codemirror_mode": {
    "name": "ipython",
    "version": 2
   },
   "file_extension": ".py",
   "mimetype": "text/x-python",
   "name": "python",
   "nbconvert_exporter": "python",
   "pygments_lexer": "ipython2",
   "version": "2.7.6"
  }
 },
 "nbformat": 4,
 "nbformat_minor": 5
}
